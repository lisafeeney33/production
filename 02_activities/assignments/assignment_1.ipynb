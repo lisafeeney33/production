{
 "cells": [
  {
   "cell_type": "markdown",
   "metadata": {},
   "source": [
    "# Working with parquet files\n",
    "\n",
    "## Objective\n",
    "\n",
    "+ In this assignment, we will use the data downloaded with the module `data_manager` to create features.\n",
    "\n",
    "(11 pts total)\n",
    "\n",
    "## Prerequisites\n",
    "\n",
    "+ This notebook assumes that price data is available to you in the environment variable `PRICE_DATA`. If you have not done so, then execute the notebook `production_2_data_engineering.ipynb` to create this data set.\n"
   ]
  },
  {
   "cell_type": "markdown",
   "metadata": {},
   "source": [
    "+ Load the environment variables using dotenv. (1 pt)"
   ]
  },
  {
   "cell_type": "code",
   "execution_count": 2,
   "metadata": {},
   "outputs": [],
   "source": [
    "%load_ext dotenv\n",
    "%dotenv"
   ]
  },
  {
   "cell_type": "code",
   "execution_count": 2,
   "metadata": {},
   "outputs": [],
   "source": [
    "import dask.dataframe as dd"
   ]
  },
  {
   "cell_type": "markdown",
   "metadata": {},
   "source": [
    "+ Load the environment variable `PRICE_DATA`.\n",
    "+ Use [glob](https://docs.python.org/3/library/glob.html) to find the path of all parquet files in the directory `PRICE_DATA`.\n",
    "\n",
    "(1pt)"
   ]
  },
  {
   "cell_type": "code",
   "execution_count": 3,
   "metadata": {},
   "outputs": [],
   "source": [
    "import os\n",
    "from glob import glob\n",
    "\n",
    "# Check the value of PRICE_DATA\n",
    "price_data_dir = os.getenv(\"PRICE_DATA\")\n",
    "print(\"PRICE_DATA directory:\", price_data_dir)"
   ]
  },
  {
   "cell_type": "markdown",
   "metadata": {},
   "source": [
    "For each ticker and using Dask, do the following:\n",
    "\n",
    "+ Add lags for variables Close and Adj_Close.\n",
    "+ Add returns based on Adjusted Close:\n",
    "    \n",
    "    - `returns`: (Adj Close / Adj Close_lag) - 1\n",
    "\n",
    "+ Add the following range: \n",
    "\n",
    "    - `hi_lo_range`: this is the day's High minus Low.\n",
    "\n",
    "+ Assign the result to `dd_feat`.\n",
    "\n",
    "(4 pt)"
   ]
  },
  {
   "cell_type": "code",
   "execution_count": 4,
   "metadata": {},
   "outputs": [],
   "source": [
    "import dask.dataframe as dd\n",
    "\n",
    "# Load the data from Parquet files\n",
    "dd_price_data = dd.read_parquet('C:\\\\Users\\\\Lisa\\\\production\\\\05_src\\\\data\\\\prices')\n",
    "\n",
    "# Define a function to process each ticker separately\n",
    "def process_ticker(data):\n",
    "    sample_data = dd_price_data.head(100)  # Load a small sample to test\n",
    "    processed_sample = process_ticker(sample_data)\n",
    "    print(processed_sample)\n",
    "   \n",
    "    # Create lagged variables for Close and Adj_Close\n",
    "    data['Close_lag_1'] = data['Close'].shift(1)\n",
    "    data['Adj_Close_lag'] = data['Adj_Close'].shift(1)\n",
    "    \n",
    "    # Calculate returns based on Adj_Close\n",
    "    data['returns'] = (data['Adj_Close'] / data['Adj_Close_lag']) - 1\n",
    "    \n",
    "    # Calculate hi_lo_range \n",
    "    data['hi_lo_range'] = data['High'] - data['Low']\n",
    "    \n",
    "    return data\n",
    "\n",
    "# Define the metadata for the output DataFrame\n",
    "meta = {\n",
    "    'Date': 'datetime64[ns]',\n",
    "    'ticker': 'object',\n",
    "    'Close': 'float64',\n",
    "    'Adj_Close': 'float64',\n",
    "    'Close_lag_1': 'float64',\n",
    "    'Adj_Close_lag': 'float64',\n",
    "    'returns': 'float64',\n",
    "    'High': 'float64',\n",
    "    'Low': 'float64',\n",
    "    'hi_lo_range': 'float64'\n",
    "}\n",
    "\n",
    "# Group by 'ticker' and apply the function\n",
    "dd_feat = dd_price_data.groupby('ticker').apply(process_ticker, meta=meta)\n",
    "\n",
    "# Show sample of the result \n",
    "dd_feat.compute()\n",
    "\n"
   ]
  },
  {
   "cell_type": "markdown",
   "metadata": {},
   "source": [
    "+ Convert the Dask data frame to a pandas data frame. \n",
    "+ Add a rolling average return calculation with a window of 10 days.\n",
    "+ *Tip*: Consider using `.rolling(10).mean()`.\n",
    "\n",
    "(3 pt)"
   ]
  },
  {
   "cell_type": "code",
   "execution_count": 25,
   "metadata": {},
   "outputs": [],
   "source": [
    "#Convert to pandas DataFrame\n",
    "df_pandas = df_dask.compute()\n",
    "\n",
    "# Add a rolling average return calculation with a 10-day window\n",
    "# Replace 'return_column' with the actual column name you want to calculate the rolling mean on\n",
    "df_pandas['rolling_avg_return'] = df_pandas['return_column'].rolling(window=10).mean()"
   ]
  },
  {
   "cell_type": "markdown",
   "metadata": {},
   "source": [
    "Please comment:\n",
    "\n",
    "+ Was it necessary to convert to pandas to calculate the moving average return?\n",
    "No - we could have done the moving average in Dask\n",
    "\n",
    "+ Would it have been better to do it in Dask? Why?\n",
    "Pandas loads the entire DataFrame into memory, whereas in Dask it is done in chunks\n",
    "\n",
    "\n",
    "(1 pt)"
   ]
  },
  {
   "cell_type": "markdown",
   "metadata": {},
   "source": [
    "## Criteria\n",
    "\n",
    "The [rubric](./assignment_1_rubric_clean.xlsx) contains the criteria for grading."
   ]
  },
  {
   "cell_type": "markdown",
   "metadata": {},
   "source": [
    "## Submission Information\n",
    "\n",
    "🚨 **Please review our [Assignment Submission Guide](https://github.com/UofT-DSI/onboarding/blob/main/onboarding_documents/submissions.md)** 🚨 for detailed instructions on how to format, branch, and submit your work. Following these guidelines is crucial for your submissions to be evaluated correctly.\n",
    "\n",
    "### Submission Parameters:\n",
    "* Submission Due Date: `HH:MM AM/PM - DD/MM/YYYY`\n",
    "* The branch name for your repo should be: `assignment-1`\n",
    "* What to submit for this assignment:\n",
    "    * This Jupyter Notebook (assignment_1.ipynb) should be populated and should be the only change in your pull request.\n",
    "* What the pull request link should look like for this assignment: `https://github.com/<your_github_username>/production/pull/<pr_id>`\n",
    "    * Open a private window in your browser. Copy and paste the link to your pull request into the address bar. Make sure you can see your pull request properly. This helps the technical facilitator and learning support staff review your submission easily.\n",
    "\n",
    "Checklist:\n",
    "- [ ] Created a branch with the correct naming convention.\n",
    "- [ ] Ensured that the repository is public.\n",
    "- [ ] Reviewed the PR description guidelines and adhered to them.\n",
    "- [ ] Verify that the link is accessible in a private browser window.\n",
    "\n",
    "If you encounter any difficulties or have questions, please don't hesitate to reach out to our team via our Slack at `#cohort-3-help`. Our Technical Facilitators and Learning Support staff are here to help you navigate any challenges."
   ]
  }
 ],
 "metadata": {
  "kernelspec": {
   "display_name": "dsi_participant",
   "language": "python",
   "name": "python3"
  },
  "language_info": {
   "codemirror_mode": {
    "name": "ipython",
    "version": 3
   },
   "file_extension": ".py",
   "mimetype": "text/x-python",
   "name": "python",
   "nbconvert_exporter": "python",
   "pygments_lexer": "ipython3",
   "version": "3.9.15"
  }
 },
 "nbformat": 4,
 "nbformat_minor": 2
}
